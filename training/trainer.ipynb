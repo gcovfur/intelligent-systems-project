{
 "cells": [
  {
   "cell_type": "markdown",
   "id": "0e7b6e6e",
   "metadata": {},
   "source": [
    "# Alunos: Gabriel Covello Furlanetto e Evelyn Tenan Ribeiro"
   ]
  },
  {
   "cell_type": "markdown",
   "id": "389ed44d",
   "metadata": {},
   "source": [
    "# Import de bibliotecas"
   ]
  },
  {
   "cell_type": "code",
   "execution_count": 1,
   "id": "a8eb7345",
   "metadata": {
    "id": "a8eb7345"
   },
   "outputs": [],
   "source": [
    "import os\n",
    "import pandas as pd\n",
    "import numpy as np\n",
    "import json\n",
    "import joblib\n",
    "from sklearn.base import BaseEstimator, TransformerMixin\n",
    "from sklearn.pipeline import Pipeline\n",
    "from sklearn.feature_extraction.text import CountVectorizer\n",
    "from sklearn.ensemble import RandomForestClassifier\n",
    "from sklearn.metrics import precision_score, recall_score, f1_score, accuracy_score\n",
    "from sklearn.compose import ColumnTransformer\n",
    "from sklearn.model_selection import train_test_split\n",
    "from sklearn.preprocessing import StandardScaler\n",
    "from sklearn.model_selection import cross_val_score\n",
    "from statistics import mean\n"
   ]
  },
  {
   "cell_type": "markdown",
   "id": "b218724a",
   "metadata": {},
   "source": [
    "# Extração de dados e formatação de dados"
   ]
  },
  {
   "cell_type": "markdown",
   "id": "1ddda8f1",
   "metadata": {},
   "source": [
    "### Variáveis excluídas e motivos: <br> <br>  'product_id' e 'seller_id': excluída por representarem variáveis únicas que não agregam a classificação desejada. <br> <br> 'minimum_quantity', 'views_counts', 'order_counts', 'creation_date': variáveis que não agregam ao modelo pois não possuem relação com os dados que estão sendo classificados, mas sim apenas informações transacionais das buscas"
   ]
  },
  {
   "cell_type": "code",
   "execution_count": 2,
   "id": "b7c89c86",
   "metadata": {
    "id": "b7c89c86",
    "outputId": "503d7fd9-e441-48a5-92a7-fd21c8074b63"
   },
   "outputs": [
    {
     "data": {
      "text/html": [
       "<div>\n",
       "<style scoped>\n",
       "    .dataframe tbody tr th:only-of-type {\n",
       "        vertical-align: middle;\n",
       "    }\n",
       "\n",
       "    .dataframe tbody tr th {\n",
       "        vertical-align: top;\n",
       "    }\n",
       "\n",
       "    .dataframe thead th {\n",
       "        text-align: right;\n",
       "    }\n",
       "</style>\n",
       "<table border=\"1\" class=\"dataframe\">\n",
       "  <thead>\n",
       "    <tr style=\"text-align: right;\">\n",
       "      <th></th>\n",
       "      <th>query</th>\n",
       "      <th>search_page</th>\n",
       "      <th>position</th>\n",
       "      <th>title</th>\n",
       "      <th>concatenated_tags</th>\n",
       "      <th>price</th>\n",
       "      <th>weight</th>\n",
       "      <th>express_delivery</th>\n",
       "      <th>category</th>\n",
       "    </tr>\n",
       "  </thead>\n",
       "  <tbody>\n",
       "    <tr>\n",
       "      <th>0</th>\n",
       "      <td>espirito santo</td>\n",
       "      <td>2</td>\n",
       "      <td>6</td>\n",
       "      <td>Mandala Espírito Santo</td>\n",
       "      <td>mandala mdf</td>\n",
       "      <td>171.890000</td>\n",
       "      <td>1200.0</td>\n",
       "      <td>1</td>\n",
       "      <td>Decoração</td>\n",
       "    </tr>\n",
       "    <tr>\n",
       "      <th>1</th>\n",
       "      <td>cartao de visita</td>\n",
       "      <td>2</td>\n",
       "      <td>0</td>\n",
       "      <td>Cartão de Visita</td>\n",
       "      <td>cartao visita panfletos tag adesivos copos lon...</td>\n",
       "      <td>77.670000</td>\n",
       "      <td>8.0</td>\n",
       "      <td>1</td>\n",
       "      <td>Papel e Cia</td>\n",
       "    </tr>\n",
       "    <tr>\n",
       "      <th>2</th>\n",
       "      <td>expositor de esmaltes</td>\n",
       "      <td>1</td>\n",
       "      <td>38</td>\n",
       "      <td>Organizador expositor p/ 70 esmaltes</td>\n",
       "      <td>expositor</td>\n",
       "      <td>73.920006</td>\n",
       "      <td>2709.0</td>\n",
       "      <td>1</td>\n",
       "      <td>Outros</td>\n",
       "    </tr>\n",
       "    <tr>\n",
       "      <th>3</th>\n",
       "      <td>medidas lencol para berco americano</td>\n",
       "      <td>1</td>\n",
       "      <td>6</td>\n",
       "      <td>Jogo de Lençol Berço Estampado</td>\n",
       "      <td>t jogo lencol menino lencol berco</td>\n",
       "      <td>118.770004</td>\n",
       "      <td>0.0</td>\n",
       "      <td>1</td>\n",
       "      <td>Bebê</td>\n",
       "    </tr>\n",
       "    <tr>\n",
       "      <th>4</th>\n",
       "      <td>adesivo box banheiro</td>\n",
       "      <td>3</td>\n",
       "      <td>38</td>\n",
       "      <td>ADESIVO BOX DE BANHEIRO</td>\n",
       "      <td>adesivo box banheiro</td>\n",
       "      <td>191.810000</td>\n",
       "      <td>507.0</td>\n",
       "      <td>1</td>\n",
       "      <td>Decoração</td>\n",
       "    </tr>\n",
       "  </tbody>\n",
       "</table>\n",
       "</div>"
      ],
      "text/plain": [
       "                                 query  search_page  position  \\\n",
       "0                       espirito santo            2         6   \n",
       "1                     cartao de visita            2         0   \n",
       "2                expositor de esmaltes            1        38   \n",
       "3  medidas lencol para berco americano            1         6   \n",
       "4                 adesivo box banheiro            3        38   \n",
       "\n",
       "                                  title  \\\n",
       "0                Mandala Espírito Santo   \n",
       "1                      Cartão de Visita   \n",
       "2  Organizador expositor p/ 70 esmaltes   \n",
       "3        Jogo de Lençol Berço Estampado   \n",
       "4               ADESIVO BOX DE BANHEIRO   \n",
       "\n",
       "                                   concatenated_tags       price  weight  \\\n",
       "0                                        mandala mdf  171.890000  1200.0   \n",
       "1  cartao visita panfletos tag adesivos copos lon...   77.670000     8.0   \n",
       "2                                          expositor   73.920006  2709.0   \n",
       "3                  t jogo lencol menino lencol berco  118.770004     0.0   \n",
       "4                               adesivo box banheiro  191.810000   507.0   \n",
       "\n",
       "   express_delivery     category  \n",
       "0                 1    Decoração  \n",
       "1                 1  Papel e Cia  \n",
       "2                 1       Outros  \n",
       "3                 1         Bebê  \n",
       "4                 1    Decoração  "
      ]
     },
     "execution_count": 2,
     "metadata": {},
     "output_type": "execute_result"
    }
   ],
   "source": [
    "# Leitura do dataset a partir da variável de ambiente\n",
    "data_path = os.environ['DATASET_PATH']\n",
    "df = pd.read_csv(data_path)\n",
    "\n",
    "# Drop de clounas desnecessárias e cujas linhas estão NaN\n",
    "df = df.drop(['product_id', 'seller_id', 'minimum_quantity', 'view_counts', 'order_counts', 'creation_date'], axis=1)\n",
    "df=df.dropna()\n",
    "df.head()"
   ]
  },
  {
   "cell_type": "markdown",
   "id": "8d1c5ac5",
   "metadata": {},
   "source": [
    "### Pré-processamento de dados que tratará as colunas textuais e irá manter as demais, sem alterações,para que alimentem o modelo. A fim de utilizar-se uma abordagem simples, uma vez que era o primeiro contato dos alunos com NLP, utilizou-se para tratamento de texto o método CountVectorizer, também conhecido como One-hot encoding. <br> <br> Este método cria um vetor que tenha tantas dimensões quanto o número de palavras únicas presentes no dataset. Cada palavra única tem uma dimensão única e será representada por um 1 nessa dimensão e 0s em todas as outras. <br> <br> Ao utilizar esse método, os alunos assumiram o risco de que não seriam realizadas capturas sintáticas e semânticas a respeito dos textos.\n"
   ]
  },
  {
   "cell_type": "code",
   "execution_count": 3,
   "id": "a43739ac",
   "metadata": {
    "id": "a43739ac"
   },
   "outputs": [],
   "source": [
    "# Tratamento de colunas de texto de forma separada, ignorando as demais colunas\n",
    "preprocess = ColumnTransformer(\n",
    "    [('query_countvec', CountVectorizer(), 'query'),\n",
    "     ('title_countvec', CountVectorizer(), 'title'),\n",
    "     ('concatenated_tags_tfidf', CountVectorizer(), 'concatenated_tags')],\n",
    "    remainder='passthrough')"
   ]
  },
  {
   "cell_type": "markdown",
   "id": "b3e7abcf",
   "metadata": {},
   "source": [
    "### De acordo com alguns padrões utilizados na literatura, 70% dos dados foram deixados para treinamento e 30% foram utilizados para teste"
   ]
  },
  {
   "cell_type": "code",
   "execution_count": 4,
   "id": "d99075c3",
   "metadata": {
    "id": "d99075c3"
   },
   "outputs": [],
   "source": [
    "# Definição de X e Y\n",
    "X = df.drop(['category'], axis=1)\n",
    "y = df['category']\n",
    "\n",
    "# Split do dataset entre treino e teste\n",
    "X_train, X_test, y_train, y_test = train_test_split(X, y, random_state=42, test_size=0.3)\n"
   ]
  },
  {
   "cell_type": "markdown",
   "id": "c3c1039d",
   "metadata": {},
   "source": [
    "# Modelagem do problema de classificação"
   ]
  },
  {
   "cell_type": "markdown",
   "id": "094927f7",
   "metadata": {},
   "source": [
    "### Nesta etapa foi criado um pipeline para executar o pré-processamento dos dados, padronizar os mesmos na sequência e por fim executar o método classificador, que para este caso foi escolhido o Random Forest Classifier. Este classificador foi escolhido por sua melhor performance em relação ao algoritmo. Também foram testados a Regressão Logística e o Decision Tree Classifier"
   ]
  },
  {
   "cell_type": "code",
   "execution_count": 5,
   "id": "328b6eb2",
   "metadata": {
    "id": "328b6eb2"
   },
   "outputs": [],
   "source": [
    "# Criação do pipeline para realizar o pré-processamento a padronização dos dados e a execução do algoritmo Random Forest\n",
    "pipeline = Pipeline([\n",
    "    ('preprocess',preprocess),\n",
    "    ('normalize', StandardScaler(with_mean=False)),\n",
    "    ('clf',RandomForestClassifier(n_jobs=-1))\n",
    "])"
   ]
  },
  {
   "cell_type": "markdown",
   "id": "c1654b9c",
   "metadata": {},
   "source": [
    "# Validação do modelo"
   ]
  },
  {
   "cell_type": "markdown",
   "id": "e9a30114",
   "metadata": {},
   "source": [
    "### Para validação do modelo, optou-se pela técnica de treinamento com validação cruzada dividindo-se os dados em 5 partes a fim de tentar evitar overfitting <br><br> Além disso, a validação foi feita pelas métricas de acurácia, precisão, recall e F1-Score, que demonstraram sua alta eficiência. "
   ]
  },
  {
   "cell_type": "code",
   "execution_count": 6,
   "id": "2899b43d",
   "metadata": {
    "id": "2899b43d"
   },
   "outputs": [],
   "source": [
    "# Função para execução do modelo\n",
    "def model_validation(X_train, y_train, X_test, y_test):    \n",
    "    \n",
    "    # criação do modelo\n",
    "    model = pipeline.fit(X_train,y_train)\n",
    "    \n",
    "    \n",
    "    tracc = mean(cross_val_score(model, X_train, y_train, cv=5, scoring='accuracy'))\n",
    "    trprec = mean(cross_val_score(model, X_train, y_train, cv=5, scoring='precision_weighted'))\n",
    "    trrec = mean(cross_val_score(model, X_train, y_train, cv=5, scoring='recall_weighted'))\n",
    "    trf1 = mean(cross_val_score(model, X_train, y_train, cv=5, scoring='f1_weighted'))\n",
    "    \n",
    "    \n",
    "    teacc = accuracy_score(y_test, pipeline.predict(X_test))\n",
    "    teprec = precision_score(y_test, pipeline.predict(X_test), average='weighted')\n",
    "    terec = recall_score(y_test, pipeline.predict(X_test), average='weighted')\n",
    "    tef1 = f1_score(y_test, pipeline.predict(X_test), average='weighted')\n",
    "    \n",
    "\n",
    "    result = {\n",
    "        'train_acc':tracc,\n",
    "        'test_acc':teacc,\n",
    "        'train_prec':trprec,\n",
    "        'test_prec':teprec,\n",
    "        'train_rec':trrec,\n",
    "        'test_rec':terec,\n",
    "        'train_f1':trf1,\n",
    "        'test_f1':tef1\n",
    "    }\n",
    "    \n",
    "    # Impressão de resultados\n",
    "    print(\"Acurácia de treinamento: \" + str(result['train_acc']))\n",
    "    print(\"Acurácia de teste: \" + str(result['test_acc']))\n",
    "    print(\"Precisão de treinamento: \" + str(result['train_prec']))\n",
    "    print(\"Precisão de teste: \" + str(result['test_prec']))\n",
    "    print(\"Recall de treinamento: \" + str(result['train_rec']))\n",
    "    print(\"Recall de teste: \" + str(result['test_rec']))\n",
    "    print(\"F1-Score de treinamento: \" + str(result['train_f1']))\n",
    "    print(\"F1-Score de teste: \" + str(result['test_f1']))\n",
    "             \n",
    "    return model, result"
   ]
  },
  {
   "cell_type": "markdown",
   "id": "7da38235",
   "metadata": {},
   "source": [
    "# Exportação do modelo"
   ]
  },
  {
   "cell_type": "code",
   "execution_count": 7,
   "id": "18d4ee66",
   "metadata": {
    "id": "18d4ee66",
    "outputId": "205468c9-f18a-4cee-e959-8124c14129a1"
   },
   "outputs": [
    {
     "name": "stdout",
     "output_type": "stream",
     "text": [
      "Acurácia de treinamento: 0.8960388177639952\n",
      "Acurácia de teste: 0.8943068002108593\n",
      "Precisão de treinamento: 0.8996677006012737\n",
      "Precisão de teste: 0.8979650406226196\n",
      "Recall de treinamento: 0.8962271274894342\n",
      "Recall de teste: 0.8943068002108593\n",
      "F1-Score de treinamento: 0.8907717413638561\n",
      "F1-Score de teste: 0.8900320133401923\n"
     ]
    },
    {
     "data": {
      "text/plain": [
       "['/usr/src/data/model.pkl']"
      ]
     },
     "execution_count": 7,
     "metadata": {},
     "output_type": "execute_result"
    }
   ],
   "source": [
    "# Execução do modelo e print de resultados\n",
    "model, result = model_validation(X_train,y_train,X_test,y_test)\n",
    "\n",
    "# Impressão de métricas em variável de ambiente\n",
    "metrics_path = os.environ['METRICS_PATH']\n",
    "with open(metrics_path, 'w') as file:\n",
    "     file.write(json.dumps(result))\n",
    "\n",
    "# Impressão de modelo em variável de ambiente\n",
    "model_path = os.environ['MODEL_PATH']\n",
    "joblib.dump(model, model_path)\n"
   ]
  }
 ],
 "metadata": {
  "colab": {
   "name": "trainer2.ipynb",
   "provenance": []
  },
  "kernelspec": {
   "display_name": "Python 3 (ipykernel)",
   "language": "python",
   "name": "python3"
  },
  "language_info": {
   "codemirror_mode": {
    "name": "ipython",
    "version": 3
   },
   "file_extension": ".py",
   "mimetype": "text/x-python",
   "name": "python",
   "nbconvert_exporter": "python",
   "pygments_lexer": "ipython3",
   "version": "3.9.1"
  }
 },
 "nbformat": 4,
 "nbformat_minor": 5
}
